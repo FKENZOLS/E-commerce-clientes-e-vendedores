{
  "nbformat": 4,
  "nbformat_minor": 0,
  "metadata": {
    "colab": {
      "name": "E-commerce: Clientes e vendedores.ipynb",
      "provenance": [],
      "collapsed_sections": []
    },
    "kernelspec": {
      "name": "python3",
      "display_name": "Python 3"
    },
    "language_info": {
      "name": "python"
    }
  },
  "cells": [
    {
      "cell_type": "markdown",
      "source": [
        "**Importando bibliotecas**"
      ],
      "metadata": {
        "id": "hh383IGzC31A"
      }
    },
    {
      "cell_type": "code",
      "source": [
        "import matplotlib.pyplot as plt\n",
        "import pandas as pd\n",
        "import numpy as np"
      ],
      "metadata": {
        "id": "zWSPH6eZC3b6"
      },
      "execution_count": 108,
      "outputs": []
    },
    {
      "cell_type": "markdown",
      "source": [
        "**Lendo datasets**"
      ],
      "metadata": {
        "id": "VBrPIXFTDJ3K"
      }
    },
    {
      "cell_type": "code",
      "execution_count": 109,
      "metadata": {
        "id": "gnvHV237vF3i"
      },
      "outputs": [],
      "source": [
        "clientes=pd.read_csv('olist_customers_dataset.csv')\n",
        "vendedores=pd.read_csv('olist_sellers_dataset.csv')\n"
      ]
    },
    {
      "cell_type": "markdown",
      "source": [
        "### **Estudo de clientes por estado**\n",
        "\n",
        "\n",
        "\n",
        "\n"
      ],
      "metadata": {
        "id": "rZ45gVHLQ3yo"
      }
    },
    {
      "cell_type": "markdown",
      "source": [
        "**Tabela de clientes**"
      ],
      "metadata": {
        "id": "2AdzIrxLDU1f"
      }
    },
    {
      "cell_type": "code",
      "source": [
        "clientes"
      ],
      "metadata": {
        "colab": {
          "base_uri": "https://localhost:8080/",
          "height": 522
        },
        "id": "uB16BtvvDXjS",
        "outputId": "1b785ab4-5289-4df2-8d97-d729c994ecb1"
      },
      "execution_count": 110,
      "outputs": [
        {
          "output_type": "execute_result",
          "data": {
            "text/plain": [
              "                            customer_id                customer_unique_id  \\\n",
              "0      06b8999e2fba1a1fbc88172c00ba8bc7  861eff4711a542e4b93843c6dd7febb0   \n",
              "1      18955e83d337fd6b2def6b18a428ac77  290c77bc529b7ac935b93aa66c333dc3   \n",
              "2      4e7b3e00288586ebd08712fdd0374a03  060e732b5b29e8181a18229c7b0b2b5e   \n",
              "3      b2b6027bc5c5109e529d4dc6358b12c3  259dac757896d24d7702b9acbbff3f3c   \n",
              "4      4f2d8ab171c80ec8364f7c12e35b23ad  345ecd01c38d18a9036ed96c73b8d066   \n",
              "...                                 ...                               ...   \n",
              "99436  17ddf5dd5d51696bb3d7c6291687be6f  1a29b476fee25c95fbafc67c5ac95cf8   \n",
              "99437  e7b71a9017aa05c9a7fd292d714858e8  d52a67c98be1cf6a5c84435bd38d095d   \n",
              "99438  5e28dfe12db7fb50a4b2f691faecea5e  e9f50caf99f032f0bf3c55141f019d99   \n",
              "99439  56b18e2166679b8a959d72dd06da27f9  73c2643a0a458b49f58cea58833b192e   \n",
              "99440  274fa6071e5e17fe303b9748641082c8  84732c5050c01db9b23e19ba39899398   \n",
              "\n",
              "       customer_zip_code_prefix          customer_city customer_state  \n",
              "0                         14409                 franca             SP  \n",
              "1                          9790  sao bernardo do campo             SP  \n",
              "2                          1151              sao paulo             SP  \n",
              "3                          8775        mogi das cruzes             SP  \n",
              "4                         13056               campinas             SP  \n",
              "...                         ...                    ...            ...  \n",
              "99436                      3937              sao paulo             SP  \n",
              "99437                      6764        taboao da serra             SP  \n",
              "99438                     60115              fortaleza             CE  \n",
              "99439                     92120                 canoas             RS  \n",
              "99440                      6703                  cotia             SP  \n",
              "\n",
              "[99441 rows x 5 columns]"
            ],
            "text/html": [
              "\n",
              "  <div id=\"df-5d2dc644-298c-4f35-82c5-bc5ac54e8146\">\n",
              "    <div class=\"colab-df-container\">\n",
              "      <div>\n",
              "<style scoped>\n",
              "    .dataframe tbody tr th:only-of-type {\n",
              "        vertical-align: middle;\n",
              "    }\n",
              "\n",
              "    .dataframe tbody tr th {\n",
              "        vertical-align: top;\n",
              "    }\n",
              "\n",
              "    .dataframe thead th {\n",
              "        text-align: right;\n",
              "    }\n",
              "</style>\n",
              "<table border=\"1\" class=\"dataframe\">\n",
              "  <thead>\n",
              "    <tr style=\"text-align: right;\">\n",
              "      <th></th>\n",
              "      <th>customer_id</th>\n",
              "      <th>customer_unique_id</th>\n",
              "      <th>customer_zip_code_prefix</th>\n",
              "      <th>customer_city</th>\n",
              "      <th>customer_state</th>\n",
              "    </tr>\n",
              "  </thead>\n",
              "  <tbody>\n",
              "    <tr>\n",
              "      <th>0</th>\n",
              "      <td>06b8999e2fba1a1fbc88172c00ba8bc7</td>\n",
              "      <td>861eff4711a542e4b93843c6dd7febb0</td>\n",
              "      <td>14409</td>\n",
              "      <td>franca</td>\n",
              "      <td>SP</td>\n",
              "    </tr>\n",
              "    <tr>\n",
              "      <th>1</th>\n",
              "      <td>18955e83d337fd6b2def6b18a428ac77</td>\n",
              "      <td>290c77bc529b7ac935b93aa66c333dc3</td>\n",
              "      <td>9790</td>\n",
              "      <td>sao bernardo do campo</td>\n",
              "      <td>SP</td>\n",
              "    </tr>\n",
              "    <tr>\n",
              "      <th>2</th>\n",
              "      <td>4e7b3e00288586ebd08712fdd0374a03</td>\n",
              "      <td>060e732b5b29e8181a18229c7b0b2b5e</td>\n",
              "      <td>1151</td>\n",
              "      <td>sao paulo</td>\n",
              "      <td>SP</td>\n",
              "    </tr>\n",
              "    <tr>\n",
              "      <th>3</th>\n",
              "      <td>b2b6027bc5c5109e529d4dc6358b12c3</td>\n",
              "      <td>259dac757896d24d7702b9acbbff3f3c</td>\n",
              "      <td>8775</td>\n",
              "      <td>mogi das cruzes</td>\n",
              "      <td>SP</td>\n",
              "    </tr>\n",
              "    <tr>\n",
              "      <th>4</th>\n",
              "      <td>4f2d8ab171c80ec8364f7c12e35b23ad</td>\n",
              "      <td>345ecd01c38d18a9036ed96c73b8d066</td>\n",
              "      <td>13056</td>\n",
              "      <td>campinas</td>\n",
              "      <td>SP</td>\n",
              "    </tr>\n",
              "    <tr>\n",
              "      <th>...</th>\n",
              "      <td>...</td>\n",
              "      <td>...</td>\n",
              "      <td>...</td>\n",
              "      <td>...</td>\n",
              "      <td>...</td>\n",
              "    </tr>\n",
              "    <tr>\n",
              "      <th>99436</th>\n",
              "      <td>17ddf5dd5d51696bb3d7c6291687be6f</td>\n",
              "      <td>1a29b476fee25c95fbafc67c5ac95cf8</td>\n",
              "      <td>3937</td>\n",
              "      <td>sao paulo</td>\n",
              "      <td>SP</td>\n",
              "    </tr>\n",
              "    <tr>\n",
              "      <th>99437</th>\n",
              "      <td>e7b71a9017aa05c9a7fd292d714858e8</td>\n",
              "      <td>d52a67c98be1cf6a5c84435bd38d095d</td>\n",
              "      <td>6764</td>\n",
              "      <td>taboao da serra</td>\n",
              "      <td>SP</td>\n",
              "    </tr>\n",
              "    <tr>\n",
              "      <th>99438</th>\n",
              "      <td>5e28dfe12db7fb50a4b2f691faecea5e</td>\n",
              "      <td>e9f50caf99f032f0bf3c55141f019d99</td>\n",
              "      <td>60115</td>\n",
              "      <td>fortaleza</td>\n",
              "      <td>CE</td>\n",
              "    </tr>\n",
              "    <tr>\n",
              "      <th>99439</th>\n",
              "      <td>56b18e2166679b8a959d72dd06da27f9</td>\n",
              "      <td>73c2643a0a458b49f58cea58833b192e</td>\n",
              "      <td>92120</td>\n",
              "      <td>canoas</td>\n",
              "      <td>RS</td>\n",
              "    </tr>\n",
              "    <tr>\n",
              "      <th>99440</th>\n",
              "      <td>274fa6071e5e17fe303b9748641082c8</td>\n",
              "      <td>84732c5050c01db9b23e19ba39899398</td>\n",
              "      <td>6703</td>\n",
              "      <td>cotia</td>\n",
              "      <td>SP</td>\n",
              "    </tr>\n",
              "  </tbody>\n",
              "</table>\n",
              "<p>99441 rows × 5 columns</p>\n",
              "</div>\n",
              "      <button class=\"colab-df-convert\" onclick=\"convertToInteractive('df-5d2dc644-298c-4f35-82c5-bc5ac54e8146')\"\n",
              "              title=\"Convert this dataframe to an interactive table.\"\n",
              "              style=\"display:none;\">\n",
              "        \n",
              "  <svg xmlns=\"http://www.w3.org/2000/svg\" height=\"24px\"viewBox=\"0 0 24 24\"\n",
              "       width=\"24px\">\n",
              "    <path d=\"M0 0h24v24H0V0z\" fill=\"none\"/>\n",
              "    <path d=\"M18.56 5.44l.94 2.06.94-2.06 2.06-.94-2.06-.94-.94-2.06-.94 2.06-2.06.94zm-11 1L8.5 8.5l.94-2.06 2.06-.94-2.06-.94L8.5 2.5l-.94 2.06-2.06.94zm10 10l.94 2.06.94-2.06 2.06-.94-2.06-.94-.94-2.06-.94 2.06-2.06.94z\"/><path d=\"M17.41 7.96l-1.37-1.37c-.4-.4-.92-.59-1.43-.59-.52 0-1.04.2-1.43.59L10.3 9.45l-7.72 7.72c-.78.78-.78 2.05 0 2.83L4 21.41c.39.39.9.59 1.41.59.51 0 1.02-.2 1.41-.59l7.78-7.78 2.81-2.81c.8-.78.8-2.07 0-2.86zM5.41 20L4 18.59l7.72-7.72 1.47 1.35L5.41 20z\"/>\n",
              "  </svg>\n",
              "      </button>\n",
              "      \n",
              "  <style>\n",
              "    .colab-df-container {\n",
              "      display:flex;\n",
              "      flex-wrap:wrap;\n",
              "      gap: 12px;\n",
              "    }\n",
              "\n",
              "    .colab-df-convert {\n",
              "      background-color: #E8F0FE;\n",
              "      border: none;\n",
              "      border-radius: 50%;\n",
              "      cursor: pointer;\n",
              "      display: none;\n",
              "      fill: #1967D2;\n",
              "      height: 32px;\n",
              "      padding: 0 0 0 0;\n",
              "      width: 32px;\n",
              "    }\n",
              "\n",
              "    .colab-df-convert:hover {\n",
              "      background-color: #E2EBFA;\n",
              "      box-shadow: 0px 1px 2px rgba(60, 64, 67, 0.3), 0px 1px 3px 1px rgba(60, 64, 67, 0.15);\n",
              "      fill: #174EA6;\n",
              "    }\n",
              "\n",
              "    [theme=dark] .colab-df-convert {\n",
              "      background-color: #3B4455;\n",
              "      fill: #D2E3FC;\n",
              "    }\n",
              "\n",
              "    [theme=dark] .colab-df-convert:hover {\n",
              "      background-color: #434B5C;\n",
              "      box-shadow: 0px 1px 3px 1px rgba(0, 0, 0, 0.15);\n",
              "      filter: drop-shadow(0px 1px 2px rgba(0, 0, 0, 0.3));\n",
              "      fill: #FFFFFF;\n",
              "    }\n",
              "  </style>\n",
              "\n",
              "      <script>\n",
              "        const buttonEl =\n",
              "          document.querySelector('#df-5d2dc644-298c-4f35-82c5-bc5ac54e8146 button.colab-df-convert');\n",
              "        buttonEl.style.display =\n",
              "          google.colab.kernel.accessAllowed ? 'block' : 'none';\n",
              "\n",
              "        async function convertToInteractive(key) {\n",
              "          const element = document.querySelector('#df-5d2dc644-298c-4f35-82c5-bc5ac54e8146');\n",
              "          const dataTable =\n",
              "            await google.colab.kernel.invokeFunction('convertToInteractive',\n",
              "                                                     [key], {});\n",
              "          if (!dataTable) return;\n",
              "\n",
              "          const docLinkHtml = 'Like what you see? Visit the ' +\n",
              "            '<a target=\"_blank\" href=https://colab.research.google.com/notebooks/data_table.ipynb>data table notebook</a>'\n",
              "            + ' to learn more about interactive tables.';\n",
              "          element.innerHTML = '';\n",
              "          dataTable['output_type'] = 'display_data';\n",
              "          await google.colab.output.renderOutput(dataTable, element);\n",
              "          const docLink = document.createElement('div');\n",
              "          docLink.innerHTML = docLinkHtml;\n",
              "          element.appendChild(docLink);\n",
              "        }\n",
              "      </script>\n",
              "    </div>\n",
              "  </div>\n",
              "  "
            ]
          },
          "metadata": {},
          "execution_count": 110
        }
      ]
    },
    {
      "cell_type": "markdown",
      "source": [
        "**Verificando se existem valores nulos nos estados**"
      ],
      "metadata": {
        "id": "LiMzDmoLD13Y"
      }
    },
    {
      "cell_type": "code",
      "source": [
        "clientes[clientes['customer_state'].isnull()].shape[0]"
      ],
      "metadata": {
        "colab": {
          "base_uri": "https://localhost:8080/"
        },
        "id": "cxOp0N0GEdk_",
        "outputId": "a8bb697d-42fa-4bd0-e28a-1116735fa983"
      },
      "execution_count": 111,
      "outputs": [
        {
          "output_type": "execute_result",
          "data": {
            "text/plain": [
              "0"
            ]
          },
          "metadata": {},
          "execution_count": 111
        }
      ]
    },
    {
      "cell_type": "markdown",
      "source": [
        "**Plotando os gráficos de clientes por Estado**"
      ],
      "metadata": {
        "id": "xb76-6BVEgrF"
      }
    },
    {
      "cell_type": "code",
      "source": [
        "clientes.rename(columns={'customer_unique_id':'Clientes','customer_state':'Estado','customer_city':'Cidade'},inplace=True)\n",
        "cliente_estado=clientes.groupby(['Estado'])['Clientes'].count().sort_values(ascending=False)\n",
        "cliente_estado=cliente_estado.to_frame()\n",
        "CEP=cliente_estado.plot(kind='bar',figsize=(12,7),color='Darkred',title='Clientes por estado')\n",
        "CEP"
      ],
      "metadata": {
        "colab": {
          "base_uri": "https://localhost:8080/",
          "height": 482
        },
        "id": "FtXnW8SWEu_d",
        "outputId": "b1f278cc-5df2-4e3c-c6e5-e5bd4a18ad0a"
      },
      "execution_count": 112,
      "outputs": [
        {
          "output_type": "execute_result",
          "data": {
            "text/plain": [
              "<matplotlib.axes._subplots.AxesSubplot at 0x7fed04f55d90>"
            ]
          },
          "metadata": {},
          "execution_count": 112
        },
        {
          "output_type": "display_data",
          "data": {
            "text/plain": [
              "<Figure size 864x504 with 1 Axes>"
            ],
            "image/png": "[encoded data removed]"
          },
          "metadata": {
            "needs_background": "light"
          }
        }
      ]
    },
    {
      "cell_type": "markdown",
      "source": [
        "A partir do gráfico podemos ver que a diferença entre o estado de São Paulo e os demais é discrepante."
      ],
      "metadata": {
        "id": "vkER9rTpE6Xm"
      }
    },
    {
      "cell_type": "code",
      "source": [
        "outros = cliente_estado.drop('SP')\n",
        "outros['Clientes'].sum()\n"
      ],
      "metadata": {
        "colab": {
          "base_uri": "https://localhost:8080/"
        },
        "id": "w-IGvtONGfud",
        "outputId": "76b5f6b6-9133-4fcb-873a-02c836e6c254"
      },
      "execution_count": 113,
      "outputs": [
        {
          "output_type": "execute_result",
          "data": {
            "text/plain": [
              "57695"
            ]
          },
          "metadata": {},
          "execution_count": 113
        }
      ]
    },
    {
      "cell_type": "code",
      "source": [
        "cliente_estado.loc['SP']"
      ],
      "metadata": {
        "colab": {
          "base_uri": "https://localhost:8080/"
        },
        "id": "Bz22d8pmN3FL",
        "outputId": "4f0a7720-0ffc-4a5f-8224-54e281b5b8fe"
      },
      "execution_count": 114,
      "outputs": [
        {
          "output_type": "execute_result",
          "data": {
            "text/plain": [
              "Clientes    41746\n",
              "Name: SP, dtype: int64"
            ]
          },
          "metadata": {},
          "execution_count": 114
        }
      ]
    },
    {
      "cell_type": "code",
      "source": [
        "y = np.array([57695, 41746])\n",
        "nomes = [\"Outros\", \"São Paulo\"]\n",
        "cores = [\"darkred\", \"indianred\"]\n",
        "fig = plt.figure(figsize=(6,6),dpi=120)\n",
        "plt.pie(y, labels = nomes,startangle=90,colors=cores,autopct='%1.1f%%',)\n",
        "plt.show() "
      ],
      "metadata": {
        "colab": {
          "base_uri": "https://localhost:8080/",
          "height": 584
        },
        "id": "w_Rw4thTOFua",
        "outputId": "29c3bbef-793f-4468-9144-8f8dc1dc847d"
      },
      "execution_count": 115,
      "outputs": [
        {
          "output_type": "display_data",
          "data": {
            "text/plain": [
              "<Figure size 720x720 with 1 Axes>"
            ],
            "image/png": "[encoded data removed]"
          },
          "metadata": {}
        }
      ]
    },
    {
      "cell_type": "markdown",
      "source": [
        "A partir desse gráfico podemos ver que o estado de São Paulo compõe 42% do total de clientes."
      ],
      "metadata": {
        "id": "hGm-gVc1QR3P"
      }
    },
    {
      "cell_type": "markdown",
      "source": [
        "### **Estudo de vendedores por estado**"
      ],
      "metadata": {
        "id": "5J1cvvnIQrx3"
      }
    },
    {
      "cell_type": "markdown",
      "source": [
        "Tabela de vendedores\n"
      ],
      "metadata": {
        "id": "2dQZ2PPXRVlo"
      }
    },
    {
      "cell_type": "code",
      "source": [
        "vendedores"
      ],
      "metadata": {
        "colab": {
          "base_uri": "https://localhost:8080/",
          "height": 423
        },
        "id": "_wyY1aQjRIGr",
        "outputId": "a24f1ddd-76c5-4182-b0cc-bba60a0783d4"
      },
      "execution_count": 116,
      "outputs": [
        {
          "output_type": "execute_result",
          "data": {
            "text/plain": [
              "                             seller_id  seller_zip_code_prefix  \\\n",
              "0     3442f8959a84dea7ee197c632cb2df15                   13023   \n",
              "1     d1b65fc7debc3361ea86b5f14c68d2e2                   13844   \n",
              "2     ce3ad9de960102d0677a81f5d0bb7b2d                   20031   \n",
              "3     c0f3eea2e14555b6faeea3dd58c1b1c3                    4195   \n",
              "4     51a04a8a6bdcb23deccc82b0b80742cf                   12914   \n",
              "...                                ...                     ...   \n",
              "3090  98dddbc4601dd4443ca174359b237166                   87111   \n",
              "3091  f8201cab383e484733266d1906e2fdfa                   88137   \n",
              "3092  74871d19219c7d518d0090283e03c137                    4650   \n",
              "3093  e603cf3fec55f8697c9059638d6c8eb5                   96080   \n",
              "3094  9e25199f6ef7e7c347120ff175652c3b                   12051   \n",
              "\n",
              "            seller_city seller_state  \n",
              "0              campinas           SP  \n",
              "1            mogi guacu           SP  \n",
              "2        rio de janeiro           RJ  \n",
              "3             sao paulo           SP  \n",
              "4     braganca paulista           SP  \n",
              "...                 ...          ...  \n",
              "3090            sarandi           PR  \n",
              "3091            palhoca           SC  \n",
              "3092          sao paulo           SP  \n",
              "3093            pelotas           RS  \n",
              "3094            taubate           SP  \n",
              "\n",
              "[3095 rows x 4 columns]"
            ],
            "text/html": [
              "\n",
              "  <div id=\"df-c4a2449a-bedf-42fb-9d0b-369efc86ce3e\">\n",
              "    <div class=\"colab-df-container\">\n",
              "      <div>\n",
              "<style scoped>\n",
              "    .dataframe tbody tr th:only-of-type {\n",
              "        vertical-align: middle;\n",
              "    }\n",
              "\n",
              "    .dataframe tbody tr th {\n",
              "        vertical-align: top;\n",
              "    }\n",
              "\n",
              "    .dataframe thead th {\n",
              "        text-align: right;\n",
              "    }\n",
              "</style>\n",
              "<table border=\"1\" class=\"dataframe\">\n",
              "  <thead>\n",
              "    <tr style=\"text-align: right;\">\n",
              "      <th></th>\n",
              "      <th>seller_id</th>\n",
              "      <th>seller_zip_code_prefix</th>\n",
              "      <th>seller_city</th>\n",
              "      <th>seller_state</th>\n",
              "    </tr>\n",
              "  </thead>\n",
              "  <tbody>\n",
              "    <tr>\n",
              "      <th>0</th>\n",
              "      <td>3442f8959a84dea7ee197c632cb2df15</td>\n",
              "      <td>13023</td>\n",
              "      <td>campinas</td>\n",
              "      <td>SP</td>\n",
              "    </tr>\n",
              "    <tr>\n",
              "      <th>1</th>\n",
              "      <td>d1b65fc7debc3361ea86b5f14c68d2e2</td>\n",
              "      <td>13844</td>\n",
              "      <td>mogi guacu</td>\n",
              "      <td>SP</td>\n",
              "    </tr>\n",
              "    <tr>\n",
              "      <th>2</th>\n",
              "      <td>ce3ad9de960102d0677a81f5d0bb7b2d</td>\n",
              "      <td>20031</td>\n",
              "      <td>rio de janeiro</td>\n",
              "      <td>RJ</td>\n",
              "    </tr>\n",
              "    <tr>\n",
              "      <th>3</th>\n",
              "      <td>c0f3eea2e14555b6faeea3dd58c1b1c3</td>\n",
              "      <td>4195</td>\n",
              "      <td>sao paulo</td>\n",
              "      <td>SP</td>\n",
              "    </tr>\n",
              "    <tr>\n",
              "      <th>4</th>\n",
              "      <td>51a04a8a6bdcb23deccc82b0b80742cf</td>\n",
              "      <td>12914</td>\n",
              "      <td>braganca paulista</td>\n",
              "      <td>SP</td>\n",
              "    </tr>\n",
              "    <tr>\n",
              "      <th>...</th>\n",
              "      <td>...</td>\n",
              "      <td>...</td>\n",
              "      <td>...</td>\n",
              "      <td>...</td>\n",
              "    </tr>\n",
              "    <tr>\n",
              "      <th>3090</th>\n",
              "      <td>98dddbc4601dd4443ca174359b237166</td>\n",
              "      <td>87111</td>\n",
              "      <td>sarandi</td>\n",
              "      <td>PR</td>\n",
              "    </tr>\n",
              "    <tr>\n",
              "      <th>3091</th>\n",
              "      <td>f8201cab383e484733266d1906e2fdfa</td>\n",
              "      <td>88137</td>\n",
              "      <td>palhoca</td>\n",
              "      <td>SC</td>\n",
              "    </tr>\n",
              "    <tr>\n",
              "      <th>3092</th>\n",
              "      <td>74871d19219c7d518d0090283e03c137</td>\n",
              "      <td>4650</td>\n",
              "      <td>sao paulo</td>\n",
              "      <td>SP</td>\n",
              "    </tr>\n",
              "    <tr>\n",
              "      <th>3093</th>\n",
              "      <td>e603cf3fec55f8697c9059638d6c8eb5</td>\n",
              "      <td>96080</td>\n",
              "      <td>pelotas</td>\n",
              "      <td>RS</td>\n",
              "    </tr>\n",
              "    <tr>\n",
              "      <th>3094</th>\n",
              "      <td>9e25199f6ef7e7c347120ff175652c3b</td>\n",
              "      <td>12051</td>\n",
              "      <td>taubate</td>\n",
              "      <td>SP</td>\n",
              "    </tr>\n",
              "  </tbody>\n",
              "</table>\n",
              "<p>3095 rows × 4 columns</p>\n",
              "</div>\n",
              "      <button class=\"colab-df-convert\" onclick=\"convertToInteractive('df-c4a2449a-bedf-42fb-9d0b-369efc86ce3e')\"\n",
              "              title=\"Convert this dataframe to an interactive table.\"\n",
              "              style=\"display:none;\">\n",
              "        \n",
              "  <svg xmlns=\"http://www.w3.org/2000/svg\" height=\"24px\"viewBox=\"0 0 24 24\"\n",
              "       width=\"24px\">\n",
              "    <path d=\"M0 0h24v24H0V0z\" fill=\"none\"/>\n",
              "    <path d=\"M18.56 5.44l.94 2.06.94-2.06 2.06-.94-2.06-.94-.94-2.06-.94 2.06-2.06.94zm-11 1L8.5 8.5l.94-2.06 2.06-.94-2.06-.94L8.5 2.5l-.94 2.06-2.06.94zm10 10l.94 2.06.94-2.06 2.06-.94-2.06-.94-.94-2.06-.94 2.06-2.06.94z\"/><path d=\"M17.41 7.96l-1.37-1.37c-.4-.4-.92-.59-1.43-.59-.52 0-1.04.2-1.43.59L10.3 9.45l-7.72 7.72c-.78.78-.78 2.05 0 2.83L4 21.41c.39.39.9.59 1.41.59.51 0 1.02-.2 1.41-.59l7.78-7.78 2.81-2.81c.8-.78.8-2.07 0-2.86zM5.41 20L4 18.59l7.72-7.72 1.47 1.35L5.41 20z\"/>\n",
              "  </svg>\n",
              "      </button>\n",
              "      \n",
              "  <style>\n",
              "    .colab-df-container {\n",
              "      display:flex;\n",
              "      flex-wrap:wrap;\n",
              "      gap: 12px;\n",
              "    }\n",
              "\n",
              "    .colab-df-convert {\n",
              "      background-color: #E8F0FE;\n",
              "      border: none;\n",
              "      border-radius: 50%;\n",
              "      cursor: pointer;\n",
              "      display: none;\n",
              "      fill: #1967D2;\n",
              "      height: 32px;\n",
              "      padding: 0 0 0 0;\n",
              "      width: 32px;\n",
              "    }\n",
              "\n",
              "    .colab-df-convert:hover {\n",
              "      background-color: #E2EBFA;\n",
              "      box-shadow: 0px 1px 2px rgba(60, 64, 67, 0.3), 0px 1px 3px 1px rgba(60, 64, 67, 0.15);\n",
              "      fill: #174EA6;\n",
              "    }\n",
              "\n",
              "    [theme=dark] .colab-df-convert {\n",
              "      background-color: #3B4455;\n",
              "      fill: #D2E3FC;\n",
              "    }\n",
              "\n",
              "    [theme=dark] .colab-df-convert:hover {\n",
              "      background-color: #434B5C;\n",
              "      box-shadow: 0px 1px 3px 1px rgba(0, 0, 0, 0.15);\n",
              "      filter: drop-shadow(0px 1px 2px rgba(0, 0, 0, 0.3));\n",
              "      fill: #FFFFFF;\n",
              "    }\n",
              "  </style>\n",
              "\n",
              "      <script>\n",
              "        const buttonEl =\n",
              "          document.querySelector('#df-c4a2449a-bedf-42fb-9d0b-369efc86ce3e button.colab-df-convert');\n",
              "        buttonEl.style.display =\n",
              "          google.colab.kernel.accessAllowed ? 'block' : 'none';\n",
              "\n",
              "        async function convertToInteractive(key) {\n",
              "          const element = document.querySelector('#df-c4a2449a-bedf-42fb-9d0b-369efc86ce3e');\n",
              "          const dataTable =\n",
              "            await google.colab.kernel.invokeFunction('convertToInteractive',\n",
              "                                                     [key], {});\n",
              "          if (!dataTable) return;\n",
              "\n",
              "          const docLinkHtml = 'Like what you see? Visit the ' +\n",
              "            '<a target=\"_blank\" href=https://colab.research.google.com/notebooks/data_table.ipynb>data table notebook</a>'\n",
              "            + ' to learn more about interactive tables.';\n",
              "          element.innerHTML = '';\n",
              "          dataTable['output_type'] = 'display_data';\n",
              "          await google.colab.output.renderOutput(dataTable, element);\n",
              "          const docLink = document.createElement('div');\n",
              "          docLink.innerHTML = docLinkHtml;\n",
              "          element.appendChild(docLink);\n",
              "        }\n",
              "      </script>\n",
              "    </div>\n",
              "  </div>\n",
              "  "
            ]
          },
          "metadata": {},
          "execution_count": 116
        }
      ]
    },
    {
      "cell_type": "markdown",
      "source": [
        " **Verificando se existem valores nulos nos estados**\n",
        "\n"
      ],
      "metadata": {
        "id": "gmhajf6xRbNB"
      }
    },
    {
      "cell_type": "code",
      "source": [
        "vendedores[vendedores['seller_state'].isnull()].shape[0]"
      ],
      "metadata": {
        "colab": {
          "base_uri": "https://localhost:8080/"
        },
        "id": "cUWQJOXsRkFU",
        "outputId": "c08532c6-4ce9-4f0d-eeab-5a3c86cb8509"
      },
      "execution_count": 117,
      "outputs": [
        {
          "output_type": "execute_result",
          "data": {
            "text/plain": [
              "0"
            ]
          },
          "metadata": {},
          "execution_count": 117
        }
      ]
    },
    {
      "cell_type": "markdown",
      "source": [
        "**Plotando os gráficos de vendedores por Estado**"
      ],
      "metadata": {
        "id": "-c9eq7AURn_D"
      }
    },
    {
      "cell_type": "code",
      "source": [
        "vendedores.rename(columns={'seller_id':'Vendedores','seller_state':'Estado'},inplace=True)\n",
        "vendedor_estado=vendedores.groupby(['Estado'])['Vendedores'].count().sort_values(ascending=False)\n",
        "vendedor_estado=vendedor_estado.to_frame()\n",
        "vendedor_estado.plot(kind='bar',figsize=(12,7),color='darkblue',title='Vendedores por estado')"
      ],
      "metadata": {
        "colab": {
          "base_uri": "https://localhost:8080/",
          "height": 482
        },
        "id": "9dycitUBRtrx",
        "outputId": "66d26c76-a2e3-41b4-a435-22fdcedd94ad"
      },
      "execution_count": 118,
      "outputs": [
        {
          "output_type": "execute_result",
          "data": {
            "text/plain": [
              "<matplotlib.axes._subplots.AxesSubplot at 0x7fed03b093d0>"
            ]
          },
          "metadata": {},
          "execution_count": 118
        },
        {
          "output_type": "display_data",
          "data": {
            "text/plain": [
              "<Figure size 864x504 with 1 Axes>"
            ],
            "image/png": "[encoded data removed]"
          },
          "metadata": {
            "needs_background": "light"
          }
        }
      ]
    },
    {
      "cell_type": "markdown",
      "source": [
        "Novamente São Paulo está em primeiro lugar."
      ],
      "metadata": {
        "id": "NbySUv8jR18H"
      }
    },
    {
      "cell_type": "code",
      "source": [
        "outrosv = vendedor_estado.drop('SP')\n",
        "outrosv['Vendedores'].sum()\n"
      ],
      "metadata": {
        "colab": {
          "base_uri": "https://localhost:8080/"
        },
        "id": "aq0qxTBlSCBT",
        "outputId": "03499da3-d6e1-45a1-91fb-6b879cec03fa"
      },
      "execution_count": 119,
      "outputs": [
        {
          "output_type": "execute_result",
          "data": {
            "text/plain": [
              "1246"
            ]
          },
          "metadata": {},
          "execution_count": 119
        }
      ]
    },
    {
      "cell_type": "code",
      "source": [
        "vendedor_estado.loc['SP']"
      ],
      "metadata": {
        "colab": {
          "base_uri": "https://localhost:8080/"
        },
        "id": "rj7EMa-fSPla",
        "outputId": "f27d105c-910b-4868-d36e-11b7b261146b"
      },
      "execution_count": 120,
      "outputs": [
        {
          "output_type": "execute_result",
          "data": {
            "text/plain": [
              "Vendedores    1849\n",
              "Name: SP, dtype: int64"
            ]
          },
          "metadata": {},
          "execution_count": 120
        }
      ]
    },
    {
      "cell_type": "code",
      "source": [
        "z = np.array([1246, 1849])\n",
        "nomes = [\"Outros\", \"São Paulo\"]\n",
        "cores = [\"darkblue\", \"cornflowerblue\"]\n",
        "fig = plt.figure(figsize=(6,6),dpi=120)\n",
        "plt.pie(z, labels = nomes,startangle=90,colors=cores,autopct='%1.1f%%',)\n",
        "plt.show() "
      ],
      "metadata": {
        "colab": {
          "base_uri": "https://localhost:8080/",
          "height": 584
        },
        "id": "WrUgwqooSV5P",
        "outputId": "8a32407c-c36d-40fb-f9cf-e551676f7193"
      },
      "execution_count": 121,
      "outputs": [
        {
          "output_type": "display_data",
          "data": {
            "text/plain": [
              "<Figure size 720x720 with 1 Axes>"
            ],
            "image/png": "[encoded data removed]"
          },
          "metadata": {}
        }
      ]
    },
    {
      "cell_type": "markdown",
      "source": [
        "Diferente dos clientes, os vendedores de São Paulo compõe mais da metade (59,7%) do total."
      ],
      "metadata": {
        "id": "DsNH2EhcSpk6"
      }
    },
    {
      "cell_type": "markdown",
      "source": [
        "### **Estudo de clientes na cidade de São Paulo**\n"
      ],
      "metadata": {
        "id": "e2YUBnoWU8iv"
      }
    },
    {
      "cell_type": "code",
      "source": [
        "sel=clientes['Estado']=='SP'\n",
        "cliente_sp=clientes[sel]\n",
        "cliente_sp"
      ],
      "metadata": {
        "colab": {
          "base_uri": "https://localhost:8080/",
          "height": 485
        },
        "id": "q4qnSPPqa1wG",
        "outputId": "c0d33b4a-950b-4c79-ee35-d9cb547d9c7b"
      },
      "execution_count": 122,
      "outputs": [
        {
          "output_type": "execute_result",
          "data": {
            "text/plain": [
              "                            customer_id                          Clientes  \\\n",
              "0      06b8999e2fba1a1fbc88172c00ba8bc7  861eff4711a542e4b93843c6dd7febb0   \n",
              "1      18955e83d337fd6b2def6b18a428ac77  290c77bc529b7ac935b93aa66c333dc3   \n",
              "2      4e7b3e00288586ebd08712fdd0374a03  060e732b5b29e8181a18229c7b0b2b5e   \n",
              "3      b2b6027bc5c5109e529d4dc6358b12c3  259dac757896d24d7702b9acbbff3f3c   \n",
              "4      4f2d8ab171c80ec8364f7c12e35b23ad  345ecd01c38d18a9036ed96c73b8d066   \n",
              "...                                 ...                               ...   \n",
              "99432  f255d679c7c86c24ef4861320d5b7675  d111b06b6f3a2add0d2241325f65b5ca   \n",
              "99434  f5a0b560f9e9427792a88bec97710212  b3e53d18a997f27a3ffd16da497eaf58   \n",
              "99436  17ddf5dd5d51696bb3d7c6291687be6f  1a29b476fee25c95fbafc67c5ac95cf8   \n",
              "99437  e7b71a9017aa05c9a7fd292d714858e8  d52a67c98be1cf6a5c84435bd38d095d   \n",
              "99440  274fa6071e5e17fe303b9748641082c8  84732c5050c01db9b23e19ba39899398   \n",
              "\n",
              "       customer_zip_code_prefix                 Cidade Estado  \n",
              "0                         14409                 franca     SP  \n",
              "1                          9790  sao bernardo do campo     SP  \n",
              "2                          1151              sao paulo     SP  \n",
              "3                          8775        mogi das cruzes     SP  \n",
              "4                         13056               campinas     SP  \n",
              "...                         ...                    ...    ...  \n",
              "99432                     13500              rio claro     SP  \n",
              "99434                      7790                cajamar     SP  \n",
              "99436                      3937              sao paulo     SP  \n",
              "99437                      6764        taboao da serra     SP  \n",
              "99440                      6703                  cotia     SP  \n",
              "\n",
              "[41746 rows x 5 columns]"
            ],
            "text/html": [
              "\n",
              "  <div id=\"df-ba392538-25fa-413c-9ce6-5ad051c11fb8\">\n",
              "    <div class=\"colab-df-container\">\n",
              "      <div>\n",
              "<style scoped>\n",
              "    .dataframe tbody tr th:only-of-type {\n",
              "        vertical-align: middle;\n",
              "    }\n",
              "\n",
              "    .dataframe tbody tr th {\n",
              "        vertical-align: top;\n",
              "    }\n",
              "\n",
              "    .dataframe thead th {\n",
              "        text-align: right;\n",
              "    }\n",
              "</style>\n",
              "<table border=\"1\" class=\"dataframe\">\n",
              "  <thead>\n",
              "    <tr style=\"text-align: right;\">\n",
              "      <th></th>\n",
              "      <th>customer_id</th>\n",
              "      <th>Clientes</th>\n",
              "      <th>customer_zip_code_prefix</th>\n",
              "      <th>Cidade</th>\n",
              "      <th>Estado</th>\n",
              "    </tr>\n",
              "  </thead>\n",
              "  <tbody>\n",
              "    <tr>\n",
              "      <th>0</th>\n",
              "      <td>06b8999e2fba1a1fbc88172c00ba8bc7</td>\n",
              "      <td>861eff4711a542e4b93843c6dd7febb0</td>\n",
              "      <td>14409</td>\n",
              "      <td>franca</td>\n",
              "      <td>SP</td>\n",
              "    </tr>\n",
              "    <tr>\n",
              "      <th>1</th>\n",
              "      <td>18955e83d337fd6b2def6b18a428ac77</td>\n",
              "      <td>290c77bc529b7ac935b93aa66c333dc3</td>\n",
              "      <td>9790</td>\n",
              "      <td>sao bernardo do campo</td>\n",
              "      <td>SP</td>\n",
              "    </tr>\n",
              "    <tr>\n",
              "      <th>2</th>\n",
              "      <td>4e7b3e00288586ebd08712fdd0374a03</td>\n",
              "      <td>060e732b5b29e8181a18229c7b0b2b5e</td>\n",
              "      <td>1151</td>\n",
              "      <td>sao paulo</td>\n",
              "      <td>SP</td>\n",
              "    </tr>\n",
              "    <tr>\n",
              "      <th>3</th>\n",
              "      <td>b2b6027bc5c5109e529d4dc6358b12c3</td>\n",
              "      <td>259dac757896d24d7702b9acbbff3f3c</td>\n",
              "      <td>8775</td>\n",
              "      <td>mogi das cruzes</td>\n",
              "      <td>SP</td>\n",
              "    </tr>\n",
              "    <tr>\n",
              "      <th>4</th>\n",
              "      <td>4f2d8ab171c80ec8364f7c12e35b23ad</td>\n",
              "      <td>345ecd01c38d18a9036ed96c73b8d066</td>\n",
              "      <td>13056</td>\n",
              "      <td>campinas</td>\n",
              "      <td>SP</td>\n",
              "    </tr>\n",
              "    <tr>\n",
              "      <th>...</th>\n",
              "      <td>...</td>\n",
              "      <td>...</td>\n",
              "      <td>...</td>\n",
              "      <td>...</td>\n",
              "      <td>...</td>\n",
              "    </tr>\n",
              "    <tr>\n",
              "      <th>99432</th>\n",
              "      <td>f255d679c7c86c24ef4861320d5b7675</td>\n",
              "      <td>d111b06b6f3a2add0d2241325f65b5ca</td>\n",
              "      <td>13500</td>\n",
              "      <td>rio claro</td>\n",
              "      <td>SP</td>\n",
              "    </tr>\n",
              "    <tr>\n",
              "      <th>99434</th>\n",
              "      <td>f5a0b560f9e9427792a88bec97710212</td>\n",
              "      <td>b3e53d18a997f27a3ffd16da497eaf58</td>\n",
              "      <td>7790</td>\n",
              "      <td>cajamar</td>\n",
              "      <td>SP</td>\n",
              "    </tr>\n",
              "    <tr>\n",
              "      <th>99436</th>\n",
              "      <td>17ddf5dd5d51696bb3d7c6291687be6f</td>\n",
              "      <td>1a29b476fee25c95fbafc67c5ac95cf8</td>\n",
              "      <td>3937</td>\n",
              "      <td>sao paulo</td>\n",
              "      <td>SP</td>\n",
              "    </tr>\n",
              "    <tr>\n",
              "      <th>99437</th>\n",
              "      <td>e7b71a9017aa05c9a7fd292d714858e8</td>\n",
              "      <td>d52a67c98be1cf6a5c84435bd38d095d</td>\n",
              "      <td>6764</td>\n",
              "      <td>taboao da serra</td>\n",
              "      <td>SP</td>\n",
              "    </tr>\n",
              "    <tr>\n",
              "      <th>99440</th>\n",
              "      <td>274fa6071e5e17fe303b9748641082c8</td>\n",
              "      <td>84732c5050c01db9b23e19ba39899398</td>\n",
              "      <td>6703</td>\n",
              "      <td>cotia</td>\n",
              "      <td>SP</td>\n",
              "    </tr>\n",
              "  </tbody>\n",
              "</table>\n",
              "<p>41746 rows × 5 columns</p>\n",
              "</div>\n",
              "      <button class=\"colab-df-convert\" onclick=\"convertToInteractive('df-ba392538-25fa-413c-9ce6-5ad051c11fb8')\"\n",
              "              title=\"Convert this dataframe to an interactive table.\"\n",
              "              style=\"display:none;\">\n",
              "        \n",
              "  <svg xmlns=\"http://www.w3.org/2000/svg\" height=\"24px\"viewBox=\"0 0 24 24\"\n",
              "       width=\"24px\">\n",
              "    <path d=\"M0 0h24v24H0V0z\" fill=\"none\"/>\n",
              "    <path d=\"M18.56 5.44l.94 2.06.94-2.06 2.06-.94-2.06-.94-.94-2.06-.94 2.06-2.06.94zm-11 1L8.5 8.5l.94-2.06 2.06-.94-2.06-.94L8.5 2.5l-.94 2.06-2.06.94zm10 10l.94 2.06.94-2.06 2.06-.94-2.06-.94-.94-2.06-.94 2.06-2.06.94z\"/><path d=\"M17.41 7.96l-1.37-1.37c-.4-.4-.92-.59-1.43-.59-.52 0-1.04.2-1.43.59L10.3 9.45l-7.72 7.72c-.78.78-.78 2.05 0 2.83L4 21.41c.39.39.9.59 1.41.59.51 0 1.02-.2 1.41-.59l7.78-7.78 2.81-2.81c.8-.78.8-2.07 0-2.86zM5.41 20L4 18.59l7.72-7.72 1.47 1.35L5.41 20z\"/>\n",
              "  </svg>\n",
              "      </button>\n",
              "      \n",
              "  <style>\n",
              "    .colab-df-container {\n",
              "      display:flex;\n",
              "      flex-wrap:wrap;\n",
              "      gap: 12px;\n",
              "    }\n",
              "\n",
              "    .colab-df-convert {\n",
              "      background-color: #E8F0FE;\n",
              "      border: none;\n",
              "      border-radius: 50%;\n",
              "      cursor: pointer;\n",
              "      display: none;\n",
              "      fill: #1967D2;\n",
              "      height: 32px;\n",
              "      padding: 0 0 0 0;\n",
              "      width: 32px;\n",
              "    }\n",
              "\n",
              "    .colab-df-convert:hover {\n",
              "      background-color: #E2EBFA;\n",
              "      box-shadow: 0px 1px 2px rgba(60, 64, 67, 0.3), 0px 1px 3px 1px rgba(60, 64, 67, 0.15);\n",
              "      fill: #174EA6;\n",
              "    }\n",
              "\n",
              "    [theme=dark] .colab-df-convert {\n",
              "      background-color: #3B4455;\n",
              "      fill: #D2E3FC;\n",
              "    }\n",
              "\n",
              "    [theme=dark] .colab-df-convert:hover {\n",
              "      background-color: #434B5C;\n",
              "      box-shadow: 0px 1px 3px 1px rgba(0, 0, 0, 0.15);\n",
              "      filter: drop-shadow(0px 1px 2px rgba(0, 0, 0, 0.3));\n",
              "      fill: #FFFFFF;\n",
              "    }\n",
              "  </style>\n",
              "\n",
              "      <script>\n",
              "        const buttonEl =\n",
              "          document.querySelector('#df-ba392538-25fa-413c-9ce6-5ad051c11fb8 button.colab-df-convert');\n",
              "        buttonEl.style.display =\n",
              "          google.colab.kernel.accessAllowed ? 'block' : 'none';\n",
              "\n",
              "        async function convertToInteractive(key) {\n",
              "          const element = document.querySelector('#df-ba392538-25fa-413c-9ce6-5ad051c11fb8');\n",
              "          const dataTable =\n",
              "            await google.colab.kernel.invokeFunction('convertToInteractive',\n",
              "                                                     [key], {});\n",
              "          if (!dataTable) return;\n",
              "\n",
              "          const docLinkHtml = 'Like what you see? Visit the ' +\n",
              "            '<a target=\"_blank\" href=https://colab.research.google.com/notebooks/data_table.ipynb>data table notebook</a>'\n",
              "            + ' to learn more about interactive tables.';\n",
              "          element.innerHTML = '';\n",
              "          dataTable['output_type'] = 'display_data';\n",
              "          await google.colab.output.renderOutput(dataTable, element);\n",
              "          const docLink = document.createElement('div');\n",
              "          docLink.innerHTML = docLinkHtml;\n",
              "          element.appendChild(docLink);\n",
              "        }\n",
              "      </script>\n",
              "    </div>\n",
              "  </div>\n",
              "  "
            ]
          },
          "metadata": {},
          "execution_count": 122
        }
      ]
    },
    {
      "cell_type": "code",
      "source": [
        "sel=clientes['Estado']=='SP'\n",
        "cliente_sp=clientes[sel]\n",
        "cidade_estado=cliente_sp.groupby(['Cidade'])['Clientes'].count().sort_values(ascending=False)\n",
        "cidade_estado=cidade_estado.to_frame()\n",
        "cidade_estado20=cidade_estado.head(20)\n",
        "ax = cidade_estado20.plot(kind='barh',figsize=(12,7),color='Darkred',title='Clientes por cidade (SP)') \n",
        "ax.invert_yaxis()\n"
      ],
      "metadata": {
        "colab": {
          "base_uri": "https://localhost:8080/",
          "height": 444
        },
        "id": "GK5K9ndxS4G4",
        "outputId": "703bcb92-390d-48f5-abff-5f95d94c5076"
      },
      "execution_count": 123,
      "outputs": [
        {
          "output_type": "display_data",
          "data": {
            "text/plain": [
              "<Figure size 864x504 with 1 Axes>"
            ],
            "image/png": "[encoded data removed]"
          },
          "metadata": {
            "needs_background": "light"
          }
        }
      ]
    },
    {
      "cell_type": "markdown",
      "source": [
        "Podemos ver no gráfico que a capital do estado fica em primeiro lugar."
      ],
      "metadata": {
        "id": "A7LSb0pTUFwq"
      }
    },
    {
      "cell_type": "code",
      "source": [
        "outros_sp=cidade_estado.drop('sao paulo')\n",
        "outros_sp['Clientes'].sum()"
      ],
      "metadata": {
        "colab": {
          "base_uri": "https://localhost:8080/"
        },
        "id": "yMf1YnxAcJb2",
        "outputId": "88eebb7d-3070-46d0-9218-df66ca6bd71d"
      },
      "execution_count": 124,
      "outputs": [
        {
          "output_type": "execute_result",
          "data": {
            "text/plain": [
              "26206"
            ]
          },
          "metadata": {},
          "execution_count": 124
        }
      ]
    },
    {
      "cell_type": "code",
      "source": [
        "cidade_estado.loc['sao paulo']"
      ],
      "metadata": {
        "colab": {
          "base_uri": "https://localhost:8080/"
        },
        "id": "S-bxSHFraT5m",
        "outputId": "11c6cfcc-aa62-41e9-a496-008e1dd78a10"
      },
      "execution_count": 125,
      "outputs": [
        {
          "output_type": "execute_result",
          "data": {
            "text/plain": [
              "Clientes    15540\n",
              "Name: sao paulo, dtype: int64"
            ]
          },
          "metadata": {},
          "execution_count": 125
        }
      ]
    },
    {
      "cell_type": "code",
      "source": [
        "w = np.array([26206, 15540])\n",
        "nomes = [\"Outros\", \"São Paulo\"]\n",
        "cores = [\"darkred\", \"indianred\"]\n",
        "fig = plt.figure(figsize=(6,6),dpi=120)\n",
        "plt.pie(w, labels = nomes,startangle=90,colors=cores,autopct='%1.1f%%')\n",
        "plt.title('Clientes por cidade(SP)')\n",
        "plt.show() "
      ],
      "metadata": {
        "colab": {
          "base_uri": "https://localhost:8080/",
          "height": 609
        },
        "id": "j_j5XHXhcfGo",
        "outputId": "944b46f0-5d50-4146-eec2-ecc51d336163"
      },
      "execution_count": 144,
      "outputs": [
        {
          "output_type": "display_data",
          "data": {
            "text/plain": [
              "<Figure size 720x720 with 1 Axes>"
            ],
            "image/png": "[encoded data removed]"
          },
          "metadata": {}
        }
      ]
    },
    {
      "cell_type": "markdown",
      "source": [
        "Dentro do estado de SP, a capital compõe 37,2% dos clientes."
      ],
      "metadata": {
        "id": "e5K-1Pircqu1"
      }
    },
    {
      "cell_type": "markdown",
      "source": [
        "### **Estudo de vendedores na cidade de São Paulo**\n"
      ],
      "metadata": {
        "id": "lfsQNl0Hc4SB"
      }
    },
    {
      "cell_type": "code",
      "source": [
        "vendedores"
      ],
      "metadata": {
        "colab": {
          "base_uri": "https://localhost:8080/",
          "height": 423
        },
        "id": "pje1oS2EdkcE",
        "outputId": "e4925fcc-e353-4cac-946d-a2138a30e65e"
      },
      "execution_count": 127,
      "outputs": [
        {
          "output_type": "execute_result",
          "data": {
            "text/plain": [
              "                            Vendedores  seller_zip_code_prefix  \\\n",
              "0     3442f8959a84dea7ee197c632cb2df15                   13023   \n",
              "1     d1b65fc7debc3361ea86b5f14c68d2e2                   13844   \n",
              "2     ce3ad9de960102d0677a81f5d0bb7b2d                   20031   \n",
              "3     c0f3eea2e14555b6faeea3dd58c1b1c3                    4195   \n",
              "4     51a04a8a6bdcb23deccc82b0b80742cf                   12914   \n",
              "...                                ...                     ...   \n",
              "3090  98dddbc4601dd4443ca174359b237166                   87111   \n",
              "3091  f8201cab383e484733266d1906e2fdfa                   88137   \n",
              "3092  74871d19219c7d518d0090283e03c137                    4650   \n",
              "3093  e603cf3fec55f8697c9059638d6c8eb5                   96080   \n",
              "3094  9e25199f6ef7e7c347120ff175652c3b                   12051   \n",
              "\n",
              "            seller_city Estado  \n",
              "0              campinas     SP  \n",
              "1            mogi guacu     SP  \n",
              "2        rio de janeiro     RJ  \n",
              "3             sao paulo     SP  \n",
              "4     braganca paulista     SP  \n",
              "...                 ...    ...  \n",
              "3090            sarandi     PR  \n",
              "3091            palhoca     SC  \n",
              "3092          sao paulo     SP  \n",
              "3093            pelotas     RS  \n",
              "3094            taubate     SP  \n",
              "\n",
              "[3095 rows x 4 columns]"
            ],
            "text/html": [
              "\n",
              "  <div id=\"df-5c1128d6-5426-4b38-a630-059c1bbfbbe9\">\n",
              "    <div class=\"colab-df-container\">\n",
              "      <div>\n",
              "<style scoped>\n",
              "    .dataframe tbody tr th:only-of-type {\n",
              "        vertical-align: middle;\n",
              "    }\n",
              "\n",
              "    .dataframe tbody tr th {\n",
              "        vertical-align: top;\n",
              "    }\n",
              "\n",
              "    .dataframe thead th {\n",
              "        text-align: right;\n",
              "    }\n",
              "</style>\n",
              "<table border=\"1\" class=\"dataframe\">\n",
              "  <thead>\n",
              "    <tr style=\"text-align: right;\">\n",
              "      <th></th>\n",
              "      <th>Vendedores</th>\n",
              "      <th>seller_zip_code_prefix</th>\n",
              "      <th>seller_city</th>\n",
              "      <th>Estado</th>\n",
              "    </tr>\n",
              "  </thead>\n",
              "  <tbody>\n",
              "    <tr>\n",
              "      <th>0</th>\n",
              "      <td>3442f8959a84dea7ee197c632cb2df15</td>\n",
              "      <td>13023</td>\n",
              "      <td>campinas</td>\n",
              "      <td>SP</td>\n",
              "    </tr>\n",
              "    <tr>\n",
              "      <th>1</th>\n",
              "      <td>d1b65fc7debc3361ea86b5f14c68d2e2</td>\n",
              "      <td>13844</td>\n",
              "      <td>mogi guacu</td>\n",
              "      <td>SP</td>\n",
              "    </tr>\n",
              "    <tr>\n",
              "      <th>2</th>\n",
              "      <td>ce3ad9de960102d0677a81f5d0bb7b2d</td>\n",
              "      <td>20031</td>\n",
              "      <td>rio de janeiro</td>\n",
              "      <td>RJ</td>\n",
              "    </tr>\n",
              "    <tr>\n",
              "      <th>3</th>\n",
              "      <td>c0f3eea2e14555b6faeea3dd58c1b1c3</td>\n",
              "      <td>4195</td>\n",
              "      <td>sao paulo</td>\n",
              "      <td>SP</td>\n",
              "    </tr>\n",
              "    <tr>\n",
              "      <th>4</th>\n",
              "      <td>51a04a8a6bdcb23deccc82b0b80742cf</td>\n",
              "      <td>12914</td>\n",
              "      <td>braganca paulista</td>\n",
              "      <td>SP</td>\n",
              "    </tr>\n",
              "    <tr>\n",
              "      <th>...</th>\n",
              "      <td>...</td>\n",
              "      <td>...</td>\n",
              "      <td>...</td>\n",
              "      <td>...</td>\n",
              "    </tr>\n",
              "    <tr>\n",
              "      <th>3090</th>\n",
              "      <td>98dddbc4601dd4443ca174359b237166</td>\n",
              "      <td>87111</td>\n",
              "      <td>sarandi</td>\n",
              "      <td>PR</td>\n",
              "    </tr>\n",
              "    <tr>\n",
              "      <th>3091</th>\n",
              "      <td>f8201cab383e484733266d1906e2fdfa</td>\n",
              "      <td>88137</td>\n",
              "      <td>palhoca</td>\n",
              "      <td>SC</td>\n",
              "    </tr>\n",
              "    <tr>\n",
              "      <th>3092</th>\n",
              "      <td>74871d19219c7d518d0090283e03c137</td>\n",
              "      <td>4650</td>\n",
              "      <td>sao paulo</td>\n",
              "      <td>SP</td>\n",
              "    </tr>\n",
              "    <tr>\n",
              "      <th>3093</th>\n",
              "      <td>e603cf3fec55f8697c9059638d6c8eb5</td>\n",
              "      <td>96080</td>\n",
              "      <td>pelotas</td>\n",
              "      <td>RS</td>\n",
              "    </tr>\n",
              "    <tr>\n",
              "      <th>3094</th>\n",
              "      <td>9e25199f6ef7e7c347120ff175652c3b</td>\n",
              "      <td>12051</td>\n",
              "      <td>taubate</td>\n",
              "      <td>SP</td>\n",
              "    </tr>\n",
              "  </tbody>\n",
              "</table>\n",
              "<p>3095 rows × 4 columns</p>\n",
              "</div>\n",
              "      <button class=\"colab-df-convert\" onclick=\"convertToInteractive('df-5c1128d6-5426-4b38-a630-059c1bbfbbe9')\"\n",
              "              title=\"Convert this dataframe to an interactive table.\"\n",
              "              style=\"display:none;\">\n",
              "        \n",
              "  <svg xmlns=\"http://www.w3.org/2000/svg\" height=\"24px\"viewBox=\"0 0 24 24\"\n",
              "       width=\"24px\">\n",
              "    <path d=\"M0 0h24v24H0V0z\" fill=\"none\"/>\n",
              "    <path d=\"M18.56 5.44l.94 2.06.94-2.06 2.06-.94-2.06-.94-.94-2.06-.94 2.06-2.06.94zm-11 1L8.5 8.5l.94-2.06 2.06-.94-2.06-.94L8.5 2.5l-.94 2.06-2.06.94zm10 10l.94 2.06.94-2.06 2.06-.94-2.06-.94-.94-2.06-.94 2.06-2.06.94z\"/><path d=\"M17.41 7.96l-1.37-1.37c-.4-.4-.92-.59-1.43-.59-.52 0-1.04.2-1.43.59L10.3 9.45l-7.72 7.72c-.78.78-.78 2.05 0 2.83L4 21.41c.39.39.9.59 1.41.59.51 0 1.02-.2 1.41-.59l7.78-7.78 2.81-2.81c.8-.78.8-2.07 0-2.86zM5.41 20L4 18.59l7.72-7.72 1.47 1.35L5.41 20z\"/>\n",
              "  </svg>\n",
              "      </button>\n",
              "      \n",
              "  <style>\n",
              "    .colab-df-container {\n",
              "      display:flex;\n",
              "      flex-wrap:wrap;\n",
              "      gap: 12px;\n",
              "    }\n",
              "\n",
              "    .colab-df-convert {\n",
              "      background-color: #E8F0FE;\n",
              "      border: none;\n",
              "      border-radius: 50%;\n",
              "      cursor: pointer;\n",
              "      display: none;\n",
              "      fill: #1967D2;\n",
              "      height: 32px;\n",
              "      padding: 0 0 0 0;\n",
              "      width: 32px;\n",
              "    }\n",
              "\n",
              "    .colab-df-convert:hover {\n",
              "      background-color: #E2EBFA;\n",
              "      box-shadow: 0px 1px 2px rgba(60, 64, 67, 0.3), 0px 1px 3px 1px rgba(60, 64, 67, 0.15);\n",
              "      fill: #174EA6;\n",
              "    }\n",
              "\n",
              "    [theme=dark] .colab-df-convert {\n",
              "      background-color: #3B4455;\n",
              "      fill: #D2E3FC;\n",
              "    }\n",
              "\n",
              "    [theme=dark] .colab-df-convert:hover {\n",
              "      background-color: #434B5C;\n",
              "      box-shadow: 0px 1px 3px 1px rgba(0, 0, 0, 0.15);\n",
              "      filter: drop-shadow(0px 1px 2px rgba(0, 0, 0, 0.3));\n",
              "      fill: #FFFFFF;\n",
              "    }\n",
              "  </style>\n",
              "\n",
              "      <script>\n",
              "        const buttonEl =\n",
              "          document.querySelector('#df-5c1128d6-5426-4b38-a630-059c1bbfbbe9 button.colab-df-convert');\n",
              "        buttonEl.style.display =\n",
              "          google.colab.kernel.accessAllowed ? 'block' : 'none';\n",
              "\n",
              "        async function convertToInteractive(key) {\n",
              "          const element = document.querySelector('#df-5c1128d6-5426-4b38-a630-059c1bbfbbe9');\n",
              "          const dataTable =\n",
              "            await google.colab.kernel.invokeFunction('convertToInteractive',\n",
              "                                                     [key], {});\n",
              "          if (!dataTable) return;\n",
              "\n",
              "          const docLinkHtml = 'Like what you see? Visit the ' +\n",
              "            '<a target=\"_blank\" href=https://colab.research.google.com/notebooks/data_table.ipynb>data table notebook</a>'\n",
              "            + ' to learn more about interactive tables.';\n",
              "          element.innerHTML = '';\n",
              "          dataTable['output_type'] = 'display_data';\n",
              "          await google.colab.output.renderOutput(dataTable, element);\n",
              "          const docLink = document.createElement('div');\n",
              "          docLink.innerHTML = docLinkHtml;\n",
              "          element.appendChild(docLink);\n",
              "        }\n",
              "      </script>\n",
              "    </div>\n",
              "  </div>\n",
              "  "
            ]
          },
          "metadata": {},
          "execution_count": 127
        }
      ]
    },
    {
      "cell_type": "markdown",
      "source": [
        "Mudando o nome da coluna da cidade dos vendedores"
      ],
      "metadata": {
        "id": "CQRaIJb9dzya"
      }
    },
    {
      "cell_type": "code",
      "source": [
        "vendedores.rename(columns={'seller_city':'Cidade'},inplace=True)"
      ],
      "metadata": {
        "id": "u7WYBLundzaK"
      },
      "execution_count": 128,
      "outputs": []
    },
    {
      "cell_type": "code",
      "source": [
        "sel=vendedores['Estado']=='SP'\n",
        "vendedor_sp=vendedores[sel]\n",
        "vendedor_estado=vendedor_sp.groupby(['Cidade'])['Vendedores'].count().sort_values(ascending=False)\n",
        "vendedor_estado=vendedor_estado.to_frame()\n",
        "vendedor_estado20=vendedor_estado.head(20)\n",
        "ax = vendedor_estado20.plot(kind='barh',figsize=(12,7),color='darkblue',title='Vendedores por cidade (SP)') \n",
        "ax.invert_yaxis()\n"
      ],
      "metadata": {
        "colab": {
          "base_uri": "https://localhost:8080/",
          "height": 444
        },
        "id": "3YxruPYDczPC",
        "outputId": "14958b51-95e1-4178-e182-543fcda37f42"
      },
      "execution_count": 129,
      "outputs": [
        {
          "output_type": "display_data",
          "data": {
            "text/plain": [
              "<Figure size 864x504 with 1 Axes>"
            ],
            "image/png": "[encoded data removed]"
          },
          "metadata": {
            "needs_background": "light"
          }
        }
      ]
    },
    {
      "cell_type": "markdown",
      "source": [
        "A cidade de São Paulo, assim como nos clientes, continua em primeiro lugar de vendedores."
      ],
      "metadata": {
        "id": "MdooR2G_fpzS"
      }
    },
    {
      "cell_type": "markdown",
      "source": [
        ""
      ],
      "metadata": {
        "id": "fcywc0I_ew5z"
      }
    },
    {
      "cell_type": "code",
      "source": [
        "outrosven_sp=vendedor_estado.drop('sao paulo')\n",
        "outrosven_sp['Vendedores'].sum()"
      ],
      "metadata": {
        "colab": {
          "base_uri": "https://localhost:8080/"
        },
        "id": "1rIx8RPGexqf",
        "outputId": "0acb3ae1-1179-44ff-c61d-373e7a78bbb2"
      },
      "execution_count": 130,
      "outputs": [
        {
          "output_type": "execute_result",
          "data": {
            "text/plain": [
              "1155"
            ]
          },
          "metadata": {},
          "execution_count": 130
        }
      ]
    },
    {
      "cell_type": "code",
      "source": [
        "vendedor_estado.loc['sao paulo']"
      ],
      "metadata": {
        "colab": {
          "base_uri": "https://localhost:8080/"
        },
        "id": "vrDoRFlhe7We",
        "outputId": "de9a0d74-779d-44f6-c8d8-b3bd042b709c"
      },
      "execution_count": 131,
      "outputs": [
        {
          "output_type": "execute_result",
          "data": {
            "text/plain": [
              "Vendedores    694\n",
              "Name: sao paulo, dtype: int64"
            ]
          },
          "metadata": {},
          "execution_count": 131
        }
      ]
    },
    {
      "cell_type": "code",
      "source": [
        "xy = np.array([1155, 694])\n",
        "nomes = [\"Outros\", \"São Paulo\"]\n",
        "cores = [\"darkblue\", \"cornflowerblue\"]\n",
        "fig = plt.figure(figsize=(6,6),dpi=120)\n",
        "plt.pie(xy, labels = nomes,startangle=90,colors=cores,autopct='%1.1f%%',)\n",
        "plt.title('Vendedores por cidade(SP)')\n",
        "plt.show() "
      ],
      "metadata": {
        "colab": {
          "base_uri": "https://localhost:8080/",
          "height": 609
        },
        "id": "isgGu1v0fCPf",
        "outputId": "5cd131a6-c110-4c6f-cc0e-ee6e665480d0"
      },
      "execution_count": 145,
      "outputs": [
        {
          "output_type": "display_data",
          "data": {
            "text/plain": [
              "<Figure size 720x720 with 1 Axes>"
            ],
            "image/png": "[encoded data removed]"
          },
          "metadata": {}
        }
      ]
    },
    {
      "cell_type": "markdown",
      "source": [
        "Sobre os vendedores no estado, a capital tem a participação de 37,5%. Porcentagem muito próxima a de clientes da capital(37,2)."
      ],
      "metadata": {
        "id": "q5FLTx2ZfYE6"
      }
    },
    {
      "cell_type": "markdown",
      "source": [
        "### Resumo"
      ],
      "metadata": {
        "id": "AZQU_fwbhKqS"
      }
    },
    {
      "cell_type": "markdown",
      "source": [
        "![Vendedores por cidade.png](data:image/png;base64,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)![Clientes por cidade.png](data:image/png;base64,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)"
      ],
      "metadata": {
        "id": "9lW2S06OiEcy"
      }
    },
    {
      "cell_type": "markdown",
      "source": [
        ""
      ],
      "metadata": {
        "id": "94CQ1YtDiei-"
      }
    }
  ]
}